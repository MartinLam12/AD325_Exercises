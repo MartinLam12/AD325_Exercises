{
 "cells": [
  {
   "cell_type": "code",
   "execution_count": 1,
   "id": "a92a548d",
   "metadata": {},
   "outputs": [],
   "source": [
    "def binary_search(arr, target):\n",
    "    def helper(low, high):\n",
    "        if low > high:\n",
    "            return - 1\n",
    "        mid = (low + high) // 2\n",
    "        if arr[mid] == target:\n",
    "            return mid\n",
    "        elif arr[mid] > target:\n",
    "            return helper(low, mid - 1)\n",
    "        else:\n",
    "            return helper(mid + 1, high)\n",
    "    \n",
    "    return helper(0, len(arr) - 1)"
   ]
  },
  {
   "cell_type": "code",
   "execution_count": null,
   "id": "da50c4ee",
   "metadata": {},
   "outputs": [],
   "source": [
    "# Simple manual test cases for binary_search\n",
    "print(\"Testing binary_search function:\")\n",
    "print(\"=\" * 30)\n",
    "\n",
    "# Test case 1: Target found in middle\n",
    "arr1 = [1, 3, 5, 7, 9]\n",
    "target1 = 5\n",
    "result1 = binary_search(arr1, target1)\n",
    "print(f\"Array: {arr1}, Target: {target1} → Index: {result1} (expected: 2)\")\n",
    "\n",
    "# Test case 2: Target found at beginning\n",
    "arr2 = [2, 4, 6, 8, 10]\n",
    "target2 = 2\n",
    "result2 = binary_search(arr2, target2)\n",
    "print(f\"Array: {arr2}, Target: {target2} → Index: {result2} (expected: 0)\")\n",
    "\n",
    "# Test case 3: Target found at end\n",
    "arr3 = [1, 2, 3, 4, 5]\n",
    "target3 = 5\n",
    "result3 = binary_search(arr3, target3)\n",
    "print(f\"Array: {arr3}, Target: {target3} → Index: {result3} (expected: 4)\")\n",
    "\n",
    "# Test case 4: Target not found\n",
    "arr4 = [1, 3, 5, 7, 9]\n",
    "target4 = 4\n",
    "result4 = binary_search(arr4, target4)\n",
    "print(f\"Array: {arr4}, Target: {target4} → Index: {result4} (expected: -1)\")\n",
    "\n",
    "# Test case 5: Single element array - found\n",
    "arr5 = [42]\n",
    "target5 = 42\n",
    "result5 = binary_search(arr5, target5)\n",
    "print(f\"Array: {arr5}, Target: {target5} → Index: {result5} (expected: 0)\")\n",
    "\n",
    "# Test case 6: Single element array - not found\n",
    "arr6 = [10]\n",
    "target6 = 5\n",
    "result6 = binary_search(arr6, target6)\n",
    "print(f\"Array: {arr6}, Target: {target6} → Index: {result6} (expected: -1)\")\n",
    "\n",
    "print(\"\\nAll tests completed!\")"
   ]
  }
 ],
 "metadata": {
  "kernelspec": {
   "display_name": "base",
   "language": "python",
   "name": "python3"
  },
  "language_info": {
   "codemirror_mode": {
    "name": "ipython",
    "version": 3
   },
   "file_extension": ".py",
   "mimetype": "text/x-python",
   "name": "python",
   "nbconvert_exporter": "python",
   "pygments_lexer": "ipython3",
   "version": "3.13.5"
  }
 },
 "nbformat": 4,
 "nbformat_minor": 5
}
