{
 "cells": [
  {
   "cell_type": "code",
   "execution_count": null,
   "id": "df722f81",
   "metadata": {},
   "outputs": [],
   "source": [
    "# BankAccount class - represents a simple bank account with transaction fees\n",
    "class BankAccount:\n",
    "    def __init__(self, name):\n",
    "        # Initialize account with owner name and zero balance\n",
    "        self._name = name\n",
    "        self._balance = 0.0\n",
    "        self._transaction_fee = 0.0\n",
    "\n",
    "    @property\n",
    "    def name(self):\n",
    "        # Getter for account holder name (read-only)\n",
    "        return self._name\n",
    "\n",
    "    @property\n",
    "    def balance(self):\n",
    "        # Getter for current account balance (read-only)\n",
    "        return self._balance\n",
    "\n",
    "    @property\n",
    "    def transaction_fee(self):\n",
    "        # Getter for transaction fee\n",
    "        return self._transaction_fee\n",
    "\n",
    "    @transaction_fee.setter\n",
    "    def transaction_fee(self, fee):\n",
    "        # Setter for transaction fee (only allows non-negative values)\n",
    "        if fee >= 0:\n",
    "            self._transaction_fee = float(fee)\n",
    "\n",
    "    def deposit(self, amount):\n",
    "        # Add money to account (only positive amounts allowed)\n",
    "        if amount > 0:\n",
    "            self._balance += float(amount)\n",
    "\n",
    "    def withdraw(self, amount):\n",
    "        # Remove money from account including transaction fee\n",
    "        total = amount + self._transaction_fee\n",
    "        if amount >= 0 and total <= self._balance:\n",
    "            self._balance -= total\n",
    "\n",
    "    def __str__(self):\n",
    "        # String representation of account\n",
    "        return f\"{self._name}, ${self._balance:.2f}\""
   ]
  },
  {
   "cell_type": "code",
   "execution_count": 8,
   "id": "c86b6b25",
   "metadata": {},
   "outputs": [],
   "source": [
    "# Factorial function - calculates n! using recursion\n",
    "def factorial(n):\n",
    "    # Base cases: 0! = 1 and 1! = 1\n",
    "    if n == 0 or n == 1:\n",
    "        return 1\n",
    "    # Recursive case: n! = n * (n-1)!\n",
    "    return n * factorial(n - 1)"
   ]
  },
  {
   "cell_type": "code",
   "execution_count": 7,
   "id": "7e0cc953",
   "metadata": {},
   "outputs": [
    {
     "name": "stdout",
     "output_type": "stream",
     "text": [
      "Testing BankAccount Class:\n",
      "========================================\n",
      "\n",
      "1. Testing account creation:\n",
      "Account created: Martin Lam, $0.00\n",
      "Name: Martin Lam\n",
      "Initial balance: $0.0\n",
      "Initial transaction fee: $0.0\n",
      "\n",
      "2. Testing deposits:\n",
      "After depositing $100: Martin Lam, $100.00\n",
      "After depositing $50: Martin Lam, $150.00\n",
      "\n",
      "3. Testing transaction fee:\n",
      "Set transaction fee to $2.5: 2.5\n",
      "\n",
      "4. Testing withdrawals:\n",
      "Balance before withdrawal: $150.0\n",
      "After withdrawing $30 (with $2.5 fee): Martin Lam, $117.50\n",
      "\n",
      "5. Testing insufficient funds:\n",
      "Current balance: $117.5\n",
      "After trying to withdraw $200: Martin Lam, $117.50\n"
     ]
    }
   ],
   "source": [
    "# Manual test cases for BankAccount class\n",
    "print(\"Testing BankAccount Class:\")\n",
    "print(\"=\" * 40)\n",
    "\n",
    "# Test 1: Account creation and initialization\n",
    "print(\"\\n1. Testing account creation:\")\n",
    "account = BankAccount(\"Martin Lam\")\n",
    "print(f\"Account created: {account}\")\n",
    "print(f\"Name: {account.name}\")\n",
    "print(f\"Initial balance: ${account.balance}\")\n",
    "print(f\"Initial transaction fee: ${account.transaction_fee}\")\n",
    "\n",
    "# Test 2: Deposit functionality\n",
    "print(\"\\n2. Testing deposits:\")\n",
    "account.deposit(100)\n",
    "print(f\"After depositing $100: {account}\")\n",
    "account.deposit(50)\n",
    "print(f\"After depositing $50: {account}\")\n",
    "\n",
    "# Test 3: Transaction fee setting\n",
    "print(\"\\n3. Testing transaction fee:\")\n",
    "account.transaction_fee = 2.5\n",
    "print(f\"Set transaction fee to $2.5: {account.transaction_fee}\")\n",
    "\n",
    "# Test 4: Withdrawal functionality\n",
    "print(\"\\n4. Testing withdrawals:\")\n",
    "print(f\"Balance before withdrawal: ${account.balance}\")\n",
    "account.withdraw(30)\n",
    "print(f\"After withdrawing $30 (with $2.5 fee): {account}\")\n",
    "\n",
    "# Test 5: Withdrawal with insufficient funds\n",
    "print(\"\\n5. Testing insufficient funds:\")\n",
    "print(f\"Current balance: ${account.balance}\")\n",
    "account.withdraw(200)  # Should fail\n",
    "print(f\"After trying to withdraw $200: {account}\")\n"
   ]
  },
  {
   "cell_type": "code",
   "execution_count": null,
   "id": "951eeeb2",
   "metadata": {},
   "outputs": [
    {
     "name": "stdout",
     "output_type": "stream",
     "text": [
      "\n",
      "Testing Factorial Function:\n",
      "========================================\n",
      "\n",
      "1. Testing base cases:\n",
      "factorial(0) = 1 (expected: 1)\n",
      "factorial(1) = 1 (expected: 1)\n",
      "\n",
      "2. Testing small positive numbers:\n",
      "factorial(3) = 6 (expected: 6)\n",
      "factorial(6) = 720 (expected: 720)\n"
     ]
    }
   ],
   "source": [
    "# Manual test cases for factorial function\n",
    "print(\"\\nTesting Factorial Function:\")\n",
    "print(\"=\" * 40)\n",
    "\n",
    "# Test base cases\n",
    "print(\"\\n1. Testing base cases:\")\n",
    "print(f\"factorial(0) = {factorial(0)} (expected: 1)\")\n",
    "print(f\"factorial(1) = {factorial(1)} (expected: 1)\")\n",
    "\n",
    "# Test positive numbers\n",
    "print(\"\\n2. Testing positive numbers:\")\n",
    "print(f\"factorial(3) = {factorial(3)} (expected: 6)\")\n",
    "print(f\"factorial(6) = {factorial(6)} (expected: 720)\")\n",
    "\n",
    "\n"
   ]
  }
 ],
 "metadata": {
  "kernelspec": {
   "display_name": "base",
   "language": "python",
   "name": "python3"
  },
  "language_info": {
   "codemirror_mode": {
    "name": "ipython",
    "version": 3
   },
   "file_extension": ".py",
   "mimetype": "text/x-python",
   "name": "python",
   "nbconvert_exporter": "python",
   "pygments_lexer": "ipython3",
   "version": "3.13.5"
  }
 },
 "nbformat": 4,
 "nbformat_minor": 5
}
